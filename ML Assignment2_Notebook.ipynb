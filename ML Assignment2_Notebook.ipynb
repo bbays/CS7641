{
 "cells": [
  {
   "cell_type": "code",
   "execution_count": 598,
   "metadata": {},
   "outputs": [],
   "source": [
    "# Adapted from https://github.com/gkhayes/mlrose\n",
    "\n",
    "import mlrose\n",
    "import numpy as np\n",
    "import pandas as pd\n",
    "\n",
    "from sklearn.model_selection import train_test_split, ShuffleSplit, GridSearchCV, learning_curve\n",
    "from sklearn.preprocessing import MinMaxScaler, OneHotEncoder\n",
    "from sklearn.metrics import accuracy_score, recall_score, precision_score, f1_score, confusion_matrix, mean_squared_error\n",
    "import itertools\n",
    "\n",
    "from timeit import default_timer as timer\n",
    "\n",
    "import matplotlib.pyplot as plt\n",
    "import seaborn as sns\n",
    "import random"
   ]
  },
  {
   "cell_type": "code",
   "execution_count": 599,
   "metadata": {},
   "outputs": [],
   "source": [
    "# Global hyperparameter Adjustment to Run entire book\n",
    "\n",
    "max_iters = 1000\n",
    "max_attempts = 500"
   ]
  },
  {
   "cell_type": "markdown",
   "metadata": {},
   "source": [
    "# N Queens\n",
    "\n",
    "\n",
    "Hayes, G. (2019). mlrose: Machine Learning, Randomized Optimization and SEarch package for Python. https://github.com/gkhayes/mlrose. Accessed: October 2, 2019.\n",
    "\n",
    "#### Randomized Hill Climb does well"
   ]
  },
  {
   "cell_type": "code",
   "execution_count": 600,
   "metadata": {},
   "outputs": [],
   "source": [
    "# Utilizing alternative to find positions where all queens CANNOT attack one another\n",
    "\n",
    "# Define alternative N-Queens fitness function for maximization problem\n",
    "def queens_max(state):\n",
    "    \n",
    "        # Initialize counter\n",
    "        fitness_cnt = 0\n",
    "\n",
    "        # For all pairs of queens\n",
    "        for i in range(len(state) - 1):\n",
    "            for j in range(i + 1, len(state)):\n",
    "\n",
    "                # Check for horizontal, diagonal-up and diagonal-down attacks\n",
    "                if (state[j] != state[i]) \\\n",
    "                    and (state[j] != state[i] + (j - i)) \\\n",
    "                    and (state[j] != state[i] - (j - i)):\n",
    "\n",
    "                   # If no attacks, then increment counter\n",
    "                   fitness_cnt += 1\n",
    "\n",
    "        return fitness_cnt\n",
    "\n",
    "# Initialize custom fitness function object\n",
    "fitness_cust = mlrose.CustomFitness(queens_max)"
   ]
  },
  {
   "cell_type": "code",
   "execution_count": 601,
   "metadata": {},
   "outputs": [],
   "source": [
    "# Initialize fitness function\n",
    "# fitness = mlrose.Queens()  # Use this for CAN attack\n",
    "\n",
    "# Define optimization problem\n",
    "problem = mlrose.DiscreteOpt(length = 8, fitness_fn = fitness_cust, maximize = True, max_val = 8)"
   ]
  },
  {
   "cell_type": "markdown",
   "metadata": {},
   "source": [
    "### Randomized Hill Climb"
   ]
  },
  {
   "cell_type": "code",
   "execution_count": 602,
   "metadata": {},
   "outputs": [
    {
     "name": "stdout",
     "output_type": "stream",
     "text": [
      "The best state:  [5 2 0 7 4 1 3 6]\n",
      "The best fitness:  28.0\n",
      "The time:  0.0524183909947169\n",
      "Iteration Count (572,)\n"
     ]
    }
   ],
   "source": [
    "start = timer()\n",
    "best_state, best_fitness, fitness_curve1 = mlrose.random_hill_climb(problem, max_attempts = max_attempts, \n",
    "                                                    max_iters = max_iters, restarts = 0, \n",
    "                                                    curve = True, init_state=None, random_state = 1)\n",
    "\n",
    "stop = timer()\n",
    "print(\"The best state: \", best_state)\n",
    "print(\"The best fitness: \", best_fitness)\n",
    "print(\"The time: \", stop - start)\n",
    "print(\"Iteration Count\", fitness_curve1.shape)"
   ]
  },
  {
   "cell_type": "markdown",
   "metadata": {},
   "source": [
    "### Simulated Annealing"
   ]
  },
  {
   "cell_type": "code",
   "execution_count": 603,
   "metadata": {},
   "outputs": [
    {
     "name": "stdout",
     "output_type": "stream",
     "text": [
      "The best state:  [6 2 7 1 4 0 5 3]\n",
      "The best fitness:  28.0\n",
      "The time:  0.0890065860003233\n",
      "Iteration Count (882,)\n"
     ]
    }
   ],
   "source": [
    "# Define decay schedule\n",
    "schedule = mlrose.GeomDecay(init_temp=1.0, decay=0.95, min_temp = 0.001)\n",
    "#schedule = mlrose.ExpDecay(init_temp=1.0, exp_const=0.005, min_temp = 0.001)\n",
    "#schedule = mlrose.ArithDecay(init_temp=1.0, decay=0.0001, min_temp = 0.001)\n",
    "\n",
    "start = timer()\n",
    "\n",
    "best_state, best_fitness, fitness_curve2 = mlrose.simulated_annealing(problem, schedule = schedule,\n",
    "                                                      max_attempts = max_attempts, max_iters = max_iters, curve = True,\n",
    "                                                      random_state = 1)\n",
    "\n",
    "stop = timer()\n",
    "print(\"The best state: \", best_state)\n",
    "print(\"The best fitness: \", best_fitness)\n",
    "print(\"The time: \", stop - start)\n",
    "print(\"Iteration Count\", fitness_curve2.shape)"
   ]
  },
  {
   "cell_type": "markdown",
   "metadata": {},
   "source": [
    "### Genetic Algorithm"
   ]
  },
  {
   "cell_type": "code",
   "execution_count": 7,
   "metadata": {},
   "outputs": [
    {
     "name": "stdout",
     "output_type": "stream",
     "text": [
      "The best state:  [1 5 7 2 0 3 6 0]\n",
      "The best fitness:  27.0\n",
      "The time:  15.257181181000002\n",
      "Iteration Count (539,)\n"
     ]
    }
   ],
   "source": [
    "start = timer()\n",
    "best_state, best_fitness, fitness_curve3 = mlrose.genetic_alg(problem, pop_size = 200, mutation_prob = 0.2, \n",
    "                                                    max_attempts = max_attempts, max_iters = max_iters, \n",
    "                                                    curve = True, random_state = 1)\n",
    "\n",
    "stop = timer()\n",
    "print(\"The best state: \", best_state)\n",
    "print(\"The best fitness: \", best_fitness)\n",
    "print(\"The time: \", stop - start)\n",
    "print(\"Iteration Count\", fitness_curve3.shape)"
   ]
  },
  {
   "cell_type": "markdown",
   "metadata": {},
   "source": [
    "### MIMIC"
   ]
  },
  {
   "cell_type": "code",
   "execution_count": 8,
   "metadata": {},
   "outputs": [
    {
     "name": "stdout",
     "output_type": "stream",
     "text": [
      "The best state:  [3 6 0 4 1 7 5 2]\n",
      "The best fitness:  27.0\n",
      "The time:  3.854181855\n",
      "Iteration Count (201,)\n"
     ]
    }
   ],
   "source": [
    "start = timer()\n",
    "best_state, best_fitness, fitness_curve4 = mlrose.mimic(problem, pop_size = 200, keep_pct = 0.2, \n",
    "                                                       max_attempts = 200, max_iters = max_iters, \n",
    "                                                       curve = True, random_state = 1,\n",
    "                                                       fast_mimic = True)\n",
    "\n",
    "stop = timer()\n",
    "print(\"The best state: \", best_state)\n",
    "print(\"The best fitness: \", best_fitness)\n",
    "print(\"The time: \", stop - start)\n",
    "print(\"Iteration Count\", fitness_curve4.shape)"
   ]
  },
  {
   "cell_type": "code",
   "execution_count": 9,
   "metadata": {},
   "outputs": [],
   "source": [
    "my_dict = dict(x = np.arange(1,1001), \n",
    "               RHC = fitness_curve1,\n",
    "               SA = fitness_curve2,\n",
    "               GA = fitness_curve3, \n",
    "               MIMIC = fitness_curve4)"
   ]
  },
  {
   "cell_type": "code",
   "execution_count": 10,
   "metadata": {},
   "outputs": [
    {
     "data": {
      "text/html": [
       "<div>\n",
       "<style scoped>\n",
       "    .dataframe tbody tr th:only-of-type {\n",
       "        vertical-align: middle;\n",
       "    }\n",
       "\n",
       "    .dataframe tbody tr th {\n",
       "        vertical-align: top;\n",
       "    }\n",
       "\n",
       "    .dataframe thead th {\n",
       "        text-align: right;\n",
       "    }\n",
       "</style>\n",
       "<table border=\"1\" class=\"dataframe\">\n",
       "  <thead>\n",
       "    <tr style=\"text-align: right;\">\n",
       "      <th></th>\n",
       "      <th>x</th>\n",
       "      <th>RHC</th>\n",
       "      <th>SA</th>\n",
       "      <th>GA</th>\n",
       "      <th>MIMIC</th>\n",
       "    </tr>\n",
       "  </thead>\n",
       "  <tbody>\n",
       "    <tr>\n",
       "      <td>0</td>\n",
       "      <td>1.0</td>\n",
       "      <td>23.0</td>\n",
       "      <td>23.0</td>\n",
       "      <td>25.0</td>\n",
       "      <td>27.0</td>\n",
       "    </tr>\n",
       "    <tr>\n",
       "      <td>1</td>\n",
       "      <td>2.0</td>\n",
       "      <td>23.0</td>\n",
       "      <td>23.0</td>\n",
       "      <td>26.0</td>\n",
       "      <td>27.0</td>\n",
       "    </tr>\n",
       "    <tr>\n",
       "      <td>2</td>\n",
       "      <td>3.0</td>\n",
       "      <td>23.0</td>\n",
       "      <td>24.0</td>\n",
       "      <td>26.0</td>\n",
       "      <td>27.0</td>\n",
       "    </tr>\n",
       "    <tr>\n",
       "      <td>3</td>\n",
       "      <td>4.0</td>\n",
       "      <td>23.0</td>\n",
       "      <td>24.0</td>\n",
       "      <td>26.0</td>\n",
       "      <td>27.0</td>\n",
       "    </tr>\n",
       "    <tr>\n",
       "      <td>4</td>\n",
       "      <td>5.0</td>\n",
       "      <td>24.0</td>\n",
       "      <td>24.0</td>\n",
       "      <td>26.0</td>\n",
       "      <td>27.0</td>\n",
       "    </tr>\n",
       "  </tbody>\n",
       "</table>\n",
       "</div>"
      ],
      "text/plain": [
       "     x   RHC    SA    GA  MIMIC\n",
       "0  1.0  23.0  23.0  25.0   27.0\n",
       "1  2.0  23.0  23.0  26.0   27.0\n",
       "2  3.0  23.0  24.0  26.0   27.0\n",
       "3  4.0  23.0  24.0  26.0   27.0\n",
       "4  5.0  24.0  24.0  26.0   27.0"
      ]
     },
     "execution_count": 10,
     "metadata": {},
     "output_type": "execute_result"
    }
   ],
   "source": [
    "df = pd.DataFrame.from_dict(my_dict, orient='index')\n",
    "df = df.transpose()\n",
    "df.head()"
   ]
  },
  {
   "cell_type": "code",
   "execution_count": 11,
   "metadata": {},
   "outputs": [
    {
     "data": {
      "text/plain": [
       "<matplotlib.legend.Legend at 0x11fa40a10>"
      ]
     },
     "execution_count": 11,
     "metadata": {},
     "output_type": "execute_result"
    },
    {
     "data": {
      "image/png": "[encoded data removed]",
      "text/plain": [
       "<Figure size 720x432 with 1 Axes>"
      ]
     },
     "metadata": {
      "needs_background": "light"
     },
     "output_type": "display_data"
    }
   ],
   "source": [
    "# Adapted from https://python-graph-gallery.com/122-multiple-lines-chart/\n",
    "plt.figure(figsize=(10,6))\n",
    "plt.plot( 'x', 'RHC', data=df, marker='', color='blue', linewidth=4, linestyle='-', label=\"RHC\")\n",
    "plt.plot( 'x', 'SA', data=df, marker='', color='black', linewidth=4, linestyle=':', label=\"SA\")\n",
    "plt.plot( 'x', 'GA', data=df, marker='', color='red', linewidth=4, linestyle='--', label=\"GA\")\n",
    "plt.plot( 'x', 'MIMIC', data=df, marker='', color='green', linewidth=4, linestyle='-.', label=\"MIMIC\")\n",
    "plt.xlim(0, 200)\n",
    "plt.xlabel('Iterations')\n",
    "plt.ylabel('State')\n",
    "plt.title('N Queens')\n",
    "plt.legend()"
   ]
  },
  {
   "cell_type": "markdown",
   "metadata": {},
   "source": [
    "# Traveling Salesperson\n",
    "\n",
    "Hayes, G. (2019). mlrose: Machine Learning, Randomized Optimization and SEarch package for Python. https://github.com/gkhayes/mlrose. Accessed: October 2, 2019.\n",
    "\n",
    "#### GA performs well"
   ]
  },
  {
   "cell_type": "code",
   "execution_count": 101,
   "metadata": {},
   "outputs": [],
   "source": [
    "# Distance Based\n",
    "random.seed(1)\n",
    "dist_list = []\n",
    "cities = 10\n",
    "for x in range(cities):\n",
    "    for y in range(cities):\n",
    "        random.seed(x + y)\n",
    "        dist_list.append((x, y, random.uniform(0.0, 1.0)))"
   ]
  },
  {
   "cell_type": "code",
   "execution_count": 13,
   "metadata": {},
   "outputs": [],
   "source": [
    "# Adapted from https://stackoverflow.com/questions/19668463/generating-multiple-random-x-y-coordinates-excluding-duplicates\n",
    "\n",
    "# Coordinate Based\n",
    "radius = 1\n",
    "rangeX = (0, 10)\n",
    "rangeY = (0, 10)\n",
    "qty = 20  # or however many points you want\n",
    "\n",
    "deltas = set()\n",
    "for x in range(-radius, radius+1):\n",
    "    for y in range(-radius, radius+1):\n",
    "        if x*x + y*y <= radius*radius:\n",
    "            deltas.add((x,y))\n",
    "\n",
    "randPoints = []\n",
    "excluded = set()\n",
    "i = 0\n",
    "while i<qty:\n",
    "    x = random.randrange(*rangeX)\n",
    "    y = random.randrange(*rangeY)\n",
    "    if (x,y) in excluded: continue\n",
    "    randPoints.append((x,y))\n",
    "    i += 1\n",
    "    excluded.update((x+dx, y+dy) for (dx,dy) in deltas)"
   ]
  },
  {
   "cell_type": "code",
   "execution_count": 102,
   "metadata": {},
   "outputs": [],
   "source": [
    "# Create list of city coordinates\n",
    "# coords_list = [(1, 1), (4, 2), (5, 2), (6, 4), (4, 4), (3, 6), (1, 5), (2, 3)]\n",
    "# Initialize fitness function object using coords_list\n",
    "#fitness_coords = mlrose.TravellingSales(coords = coords_list)\n",
    "\n",
    "fitness_dists = mlrose.TravellingSales(distances = dist_list)\n",
    "\n",
    "# Define optimization problem object\n",
    "#problem = mlrose.TSPOpt(length = 8, fitness_fn = fitness_coords, maximize = True)  # Coordinate defined\n",
    "problem = mlrose.TSPOpt(length = 10, fitness_fn = fitness_dists, maximize = True)  # Distance defined"
   ]
  },
  {
   "cell_type": "markdown",
   "metadata": {},
   "source": [
    "### Randomized Hill Climb"
   ]
  },
  {
   "cell_type": "code",
   "execution_count": 103,
   "metadata": {},
   "outputs": [
    {
     "name": "stdout",
     "output_type": "stream",
     "text": [
      "The best state:  [8 9 6 4 1 5 0 2 3 7]\n",
      "The best fitness:  7.213352822516584\n",
      "The time:  0.13584263299890154\n",
      "Iteration Count (614,)\n"
     ]
    }
   ],
   "source": [
    "# Manual experimentation on restarts, attempts, and iteration\n",
    "# Complex problem difficult for RHC\n",
    "\n",
    "start = timer()\n",
    "\n",
    "best_state, best_fitness, fitness_curve1 = mlrose.random_hill_climb(problem, max_attempts = max_attempts, \n",
    "                                                    max_iters = max_iters, restarts = 0, \n",
    "                                                    curve = True, init_state=None, random_state = 1)\n",
    "stop = timer()\n",
    "print(\"The best state: \", best_state)\n",
    "print(\"The best fitness: \", best_fitness)\n",
    "print(\"The time: \", stop - start)\n",
    "print(\"Iteration Count\", fitness_curve1.shape)"
   ]
  },
  {
   "cell_type": "markdown",
   "metadata": {},
   "source": [
    "### Simulated Annealing"
   ]
  },
  {
   "cell_type": "code",
   "execution_count": 107,
   "metadata": {},
   "outputs": [
    {
     "name": "stdout",
     "output_type": "stream",
     "text": [
      "The best state:  [8 3 9 6 0 2 4 1 5 7]\n",
      "The best fitness:  7.290961412055101\n",
      "The time:  0.14891231899855484\n",
      "Iteration Count (647,)\n"
     ]
    }
   ],
   "source": [
    "# Define decay schedule\n",
    "#schedule = mlrose.GeomDecay(init_temp=1.0, decay=0.95, min_temp = 0.001)\n",
    "schedule = mlrose.ExpDecay(init_temp=1.0, exp_const=0.5, min_temp = 0.001)\n",
    "#schedule = mlrose.ArithDecay(init_temp=1.0, decay=0.0001, min_temp = 0.001)\n",
    "\n",
    "start = timer()\n",
    "best_state, best_fitness, fitness_curve2 = mlrose.simulated_annealing(problem, schedule = schedule,\n",
    "                                                      max_attempts = max_attempts, max_iters = max_iters,\n",
    "                                                      curve = True, random_state = 1)\n",
    "\n",
    "stop = timer()\n",
    "print(\"The best state: \", best_state)\n",
    "print(\"The best fitness: \", best_fitness)\n",
    "print(\"The time: \", stop - start)\n",
    "print(\"Iteration Count\", fitness_curve2.shape)"
   ]
  },
  {
   "cell_type": "markdown",
   "metadata": {},
   "source": [
    "### Genetic Algorithm"
   ]
  },
  {
   "cell_type": "code",
   "execution_count": 17,
   "metadata": {},
   "outputs": [
    {
     "name": "stdout",
     "output_type": "stream",
     "text": [
      "The best state:  [9 6 0 2 4 1 5 7 8 3]\n",
      "The best fitness:  7.290961412055101\n",
      "The time:  33.055409736\n",
      "Iteration Count (574,)\n"
     ]
    }
   ],
   "source": [
    "# Manual alteration of hyperparameters\n",
    "# Solve problem using the genetic algorithm\n",
    "start = timer()\n",
    "best_state, best_fitness, fitness_curve3 = mlrose.genetic_alg(problem, mutation_prob = 0.1, pop_size = 200,\n",
    "                                              max_attempts = max_attempts, max_iters = max_iters, \n",
    "                                              curve = True, random_state = 1)\n",
    "\n",
    "stop = timer()\n",
    "print(\"The best state: \", best_state)\n",
    "print(\"The best fitness: \", best_fitness)\n",
    "print(\"The time: \", stop - start)\n",
    "print(\"Iteration Count\", fitness_curve3.shape)"
   ]
  },
  {
   "cell_type": "markdown",
   "metadata": {},
   "source": [
    "### MIMIC"
   ]
  },
  {
   "cell_type": "code",
   "execution_count": 104,
   "metadata": {},
   "outputs": [
    {
     "name": "stdout",
     "output_type": "stream",
     "text": [
      "The best state:  [0 6 9 8 7 5 1 4 3 2]\n",
      "The best fitness:  7.039389465530429\n",
      "The time:  395.80344362100004\n",
      "Iteration Count (505,)\n"
     ]
    }
   ],
   "source": [
    "start = timer()\n",
    "best_state, best_fitness, fitness_curve4 = mlrose.mimic(problem, pop_size = 600, keep_pct = 0.2, \n",
    "                                               max_attempts = max_attempts, max_iters = max_iters, \n",
    "                                               curve = True, random_state = 1, fast_mimic = False)\n",
    "\n",
    "stop = timer()\n",
    "print(\"The best state: \", best_state)\n",
    "print(\"The best fitness: \", best_fitness)\n",
    "print(\"The time: \", stop - start)\n",
    "print(\"Iteration Count\", fitness_curve4.shape)"
   ]
  },
  {
   "cell_type": "code",
   "execution_count": 19,
   "metadata": {},
   "outputs": [],
   "source": [
    "my_dict = dict(x = np.arange(1,1001), \n",
    "               RHC = fitness_curve1,\n",
    "               SA = fitness_curve2,\n",
    "               GA = fitness_curve3, \n",
    "               MIMIC = fitness_curve4)"
   ]
  },
  {
   "cell_type": "code",
   "execution_count": 20,
   "metadata": {},
   "outputs": [
    {
     "data": {
      "text/html": [
       "<div>\n",
       "<style scoped>\n",
       "    .dataframe tbody tr th:only-of-type {\n",
       "        vertical-align: middle;\n",
       "    }\n",
       "\n",
       "    .dataframe tbody tr th {\n",
       "        vertical-align: top;\n",
       "    }\n",
       "\n",
       "    .dataframe thead th {\n",
       "        text-align: right;\n",
       "    }\n",
       "</style>\n",
       "<table border=\"1\" class=\"dataframe\">\n",
       "  <thead>\n",
       "    <tr style=\"text-align: right;\">\n",
       "      <th></th>\n",
       "      <th>x</th>\n",
       "      <th>RHC</th>\n",
       "      <th>SA</th>\n",
       "      <th>GA</th>\n",
       "      <th>MIMIC</th>\n",
       "    </tr>\n",
       "  </thead>\n",
       "  <tbody>\n",
       "    <tr>\n",
       "      <td>0</td>\n",
       "      <td>1.0</td>\n",
       "      <td>5.908543</td>\n",
       "      <td>5.908543</td>\n",
       "      <td>6.640818</td>\n",
       "      <td>6.887022</td>\n",
       "    </tr>\n",
       "    <tr>\n",
       "      <td>1</td>\n",
       "      <td>2.0</td>\n",
       "      <td>5.908543</td>\n",
       "      <td>5.908543</td>\n",
       "      <td>7.194422</td>\n",
       "      <td>6.946266</td>\n",
       "    </tr>\n",
       "    <tr>\n",
       "      <td>2</td>\n",
       "      <td>3.0</td>\n",
       "      <td>5.908543</td>\n",
       "      <td>5.759602</td>\n",
       "      <td>7.194422</td>\n",
       "      <td>6.946266</td>\n",
       "    </tr>\n",
       "    <tr>\n",
       "      <td>3</td>\n",
       "      <td>4.0</td>\n",
       "      <td>6.392524</td>\n",
       "      <td>5.455246</td>\n",
       "      <td>7.194422</td>\n",
       "      <td>6.946266</td>\n",
       "    </tr>\n",
       "    <tr>\n",
       "      <td>4</td>\n",
       "      <td>5.0</td>\n",
       "      <td>6.392524</td>\n",
       "      <td>5.238831</td>\n",
       "      <td>7.194422</td>\n",
       "      <td>6.946266</td>\n",
       "    </tr>\n",
       "  </tbody>\n",
       "</table>\n",
       "</div>"
      ],
      "text/plain": [
       "     x       RHC        SA        GA     MIMIC\n",
       "0  1.0  5.908543  5.908543  6.640818  6.887022\n",
       "1  2.0  5.908543  5.908543  7.194422  6.946266\n",
       "2  3.0  5.908543  5.759602  7.194422  6.946266\n",
       "3  4.0  6.392524  5.455246  7.194422  6.946266\n",
       "4  5.0  6.392524  5.238831  7.194422  6.946266"
      ]
     },
     "execution_count": 20,
     "metadata": {},
     "output_type": "execute_result"
    }
   ],
   "source": [
    "df = pd.DataFrame.from_dict(my_dict, orient='index')\n",
    "df = df.transpose()\n",
    "df.head()"
   ]
  },
  {
   "cell_type": "code",
   "execution_count": 21,
   "metadata": {},
   "outputs": [
    {
     "data": {
      "text/plain": [
       "<matplotlib.legend.Legend at 0x11fcdae10>"
      ]
     },
     "execution_count": 21,
     "metadata": {},
     "output_type": "execute_result"
    },
    {
     "data": {
      "image/png": "[encoded data removed]",
      "text/plain": [
       "<Figure size 720x432 with 1 Axes>"
      ]
     },
     "metadata": {
      "needs_background": "light"
     },
     "output_type": "display_data"
    }
   ],
   "source": [
    "# Adapted from https://python-graph-gallery.com/122-multiple-lines-chart/\n",
    "plt.figure(figsize=(10,6))\n",
    "plt.plot( 'x', 'RHC', data=df, marker='', color='blue', linewidth=4, linestyle='-', label=\"RHC\")\n",
    "plt.plot( 'x', 'SA', data=df, marker='', color='black', linewidth=4, linestyle=':', label=\"SA\")\n",
    "plt.plot( 'x', 'GA', data=df, marker='', color='red', linewidth=4, linestyle='--', label=\"GA\")\n",
    "plt.plot( 'x', 'MIMIC', data=df, marker='', color='green', linewidth=4, linestyle='-.', label=\"MIMIC\")\n",
    "plt.xlim(0, 500)\n",
    "plt.xlabel('Iterations')\n",
    "plt.ylabel('State')\n",
    "plt.title('Traveling Salesperson')\n",
    "plt.legend()"
   ]
  },
  {
   "cell_type": "markdown",
   "metadata": {},
   "source": [
    "# Continuous Peaks\n",
    "\n",
    "Hayes, G. (2019). mlrose: Machine Learning, Randomized Optimization and Search package for Python. https://github.com/gkhayes/mlrose. Accessed: October 2, 2019.\n",
    "\n",
    "#### Simulated Annealing performs best"
   ]
  },
  {
   "cell_type": "code",
   "execution_count": 80,
   "metadata": {},
   "outputs": [],
   "source": [
    "# Initialize fitness function object using pre-defined class\n",
    "fitness = mlrose.ContinuousPeaks(t_pct=0.15)\n",
    "\n",
    "# Define optimization problem object\n",
    "problem = mlrose.DiscreteOpt(length=100, fitness_fn=fitness, maximize=True)"
   ]
  },
  {
   "cell_type": "markdown",
   "metadata": {},
   "source": [
    "### Random Hill Climb"
   ]
  },
  {
   "cell_type": "code",
   "execution_count": 92,
   "metadata": {},
   "outputs": [
    {
     "name": "stdout",
     "output_type": "stream",
     "text": [
      "The best state:  [1 1 1 1 1 1 1 1 1 1 1 1 1 1 1 1 1 1 1 1 1 1 1 1 1 1 1 1 1 1 1 1 1 1 1 1 1\n",
      " 1 1 1 1 1 1 1 1 1 1 1 1 1 1 1 1 1 1 1 1 1 1 1 1 1 1 1 1 1 1 1 1 1 1 1 1 1\n",
      " 1 1 1 1 1 1 1 1 1 1 1 1 1 1 1 1 1 1 1 1 1 1 1 1 1 1]\n",
      "The best fitness:  100.0\n",
      "The time:  0.20557573600012802\n",
      "Iteration Count (2331,)\n"
     ]
    }
   ],
   "source": [
    "start = timer()\n",
    "best_state, best_fitness, fitness_curve1 = mlrose.random_hill_climb(problem, max_attempts = max_attempts, \n",
    "                                                    max_iters = 5000, restarts = 0, \n",
    "                                                    curve = True, init_state = None, random_state = 1)\n",
    "\n",
    "stop = timer()\n",
    "print(\"The best state: \", best_state)\n",
    "print(\"The best fitness: \", best_fitness)\n",
    "print(\"The time: \", stop - start)\n",
    "print(\"Iteration Count\", fitness_curve1.shape)"
   ]
  },
  {
   "cell_type": "markdown",
   "metadata": {},
   "source": [
    "### Simulated Annealing"
   ]
  },
  {
   "cell_type": "code",
   "execution_count": 93,
   "metadata": {},
   "outputs": [
    {
     "name": "stdout",
     "output_type": "stream",
     "text": [
      "The best state:  [1 1 1 1 1 1 1 1 1 1 1 1 1 1 1 1 0 0 0 0 0 0 0 0 0 0 0 0 0 0 0 0 0 0 0 0 0\n",
      " 0 0 0 0 0 0 0 0 0 0 0 0 0 0 0 0 0 0 0 0 0 0 0 0 0 0 0 0 0 0 0 0 0 0 0 0 0\n",
      " 0 0 0 0 0 0 0 0 0 0 0 0 0 0 0 0 0 0 0 0 0 0 0 0 0 0]\n",
      "The best fitness:  184.0\n",
      "The time:  0.5212451510001301\n",
      "Iteration Count (4862,)\n"
     ]
    }
   ],
   "source": [
    "# Define decay schedule\n",
    "\n",
    "schedule = mlrose.GeomDecay(init_temp=10.0, decay=0.97, min_temp = 0.001)\n",
    "#schedule = mlrose.ExpDecay(init_temp=1.0, exp_const=0.005, min_temp = 0.001)\n",
    "#schedule = mlrose.ArithDecay(init_temp=1.0, decay=0.001, min_temp = 0.001)\n",
    "\n",
    "start = timer()\n",
    "best_state, best_fitness, fitness_curve2 = mlrose.simulated_annealing(problem, schedule = schedule,\n",
    "                                                      max_attempts = max_attempts, max_iters = 5000, curve = True,\n",
    "                                                      random_state = 1)\n",
    "\n",
    "stop = timer()\n",
    "print(\"The best state: \", best_state)\n",
    "print(\"The best fitness: \", best_fitness)\n",
    "print(\"The time: \", stop - start)\n",
    "print(\"Iteration Count\", fitness_curve2.shape)"
   ]
  },
  {
   "cell_type": "markdown",
   "metadata": {},
   "source": [
    "### Genetic Algorithm"
   ]
  },
  {
   "cell_type": "code",
   "execution_count": 90,
   "metadata": {},
   "outputs": [
    {
     "name": "stdout",
     "output_type": "stream",
     "text": [
      "The best state:  [1 0 0 1 0 0 1 0 0 0 0 1 0 0 1 1 1 1 0 1 0 0 1 1 0 0 1 0 0 1 1 0 1 1 0 0 0\n",
      " 1 0 0 0 1 1 1 1 0 0 0 0 1 1 0 1 1 1 1 0 0 1 0 0 1 0 0 0 1 1 0 1 0 1 1 1 1\n",
      " 1 1 1 1 1 1 1 1 1 1 1 1 1 1 1 1 1 1 1 1 1 0 1 0 1 1]\n",
      "The best fitness:  25.0\n",
      "The time:  54.26749126100003\n",
      "Iteration Count (549,)\n"
     ]
    }
   ],
   "source": [
    "# Solve problem using the genetic algorithm\n",
    "start = timer()\n",
    "best_state, best_fitness, fitness_curve3 = mlrose.genetic_alg(problem, pop_size = 200, mutation_prob = 0.1,\n",
    "                                              max_attempts = max_attempts, max_iters = 5000,\n",
    "                                              curve = True, random_state = 1)\n",
    "\n",
    "stop = timer()\n",
    "print(\"The best state: \", best_state)\n",
    "print(\"The best fitness: \", best_fitness)\n",
    "print(\"The time: \", stop - start)\n",
    "print(\"Iteration Count\", fitness_curve3.shape)"
   ]
  },
  {
   "cell_type": "markdown",
   "metadata": {},
   "source": [
    "### MIMIC"
   ]
  },
  {
   "cell_type": "code",
   "execution_count": 91,
   "metadata": {},
   "outputs": [
    {
     "name": "stdout",
     "output_type": "stream",
     "text": [
      "The best state:  [1 0 1 1 0 0 0 0 1 0 1 0 1 1 1 1 1 1 1 1 1 1 1 1 1 1 1 1 1 1 0 0 1 0 0 1 0\n",
      " 0 0 0 0 1 1 0 0 0 0 0 1 1 0 1 0 0 0 0 1 1 1 0 1 1 1 0 1 0 0 0 1 1 1 1 1 1\n",
      " 0 0 1 1 1 1 1 1 1 0 0 0 0 0 0 0 0 0 0 0 0 0 0 0 0 1]\n",
      "The best fitness:  118.0\n",
      "The time:  44.91225299299981\n",
      "Iteration Count (520,)\n"
     ]
    }
   ],
   "source": [
    "start = timer()\n",
    "best_state, best_fitness, fitness_curve4 = mlrose.mimic(problem, pop_size = 200, keep_pct = 0.2, \n",
    "                                               max_attempts = max_attempts, max_iters = 5000, \n",
    "                                               curve = True, random_state = 1,\n",
    "                                               fast_mimic = True)\n",
    "\n",
    "stop = timer()\n",
    "print(\"The best state: \", best_state)\n",
    "print(\"The best fitness: \", best_fitness)\n",
    "print(\"The time: \", stop - start)\n",
    "print(\"Iteration Count\", fitness_curve4.shape)"
   ]
  },
  {
   "cell_type": "code",
   "execution_count": 94,
   "metadata": {},
   "outputs": [],
   "source": [
    "my_dict = dict(x = np.arange(1,1001), \n",
    "               RHC = fitness_curve1,\n",
    "               SA = fitness_curve2,\n",
    "               GA = fitness_curve3, \n",
    "               MIMIC = fitness_curve4)"
   ]
  },
  {
   "cell_type": "code",
   "execution_count": 95,
   "metadata": {},
   "outputs": [],
   "source": [
    "df = pd.DataFrame.from_dict(my_dict, orient='index')\n",
    "df = df.transpose()"
   ]
  },
  {
   "cell_type": "code",
   "execution_count": 96,
   "metadata": {},
   "outputs": [
    {
     "data": {
      "text/plain": [
       "<matplotlib.legend.Legend at 0x120a2e410>"
      ]
     },
     "execution_count": 96,
     "metadata": {},
     "output_type": "execute_result"
    },
    {
     "data": {
      "image/png": "[encoded data removed]",
      "text/plain": [
       "<Figure size 720x432 with 1 Axes>"
      ]
     },
     "metadata": {
      "needs_background": "light"
     },
     "output_type": "display_data"
    }
   ],
   "source": [
    "# Adapted from https://python-graph-gallery.com/122-multiple-lines-chart/\n",
    "plt.figure(figsize=(10,6))\n",
    "plt.plot( 'x', 'RHC', data=df, marker='', color='blue', linewidth=4, linestyle='-', label=\"RHC\")\n",
    "plt.plot( 'x', 'SA', data=df, marker='', color='black', linewidth=4, linestyle=':', label=\"SA\")\n",
    "plt.plot( 'x', 'GA', data=df, marker='', color='red', linewidth=4, linestyle='--', label=\"GA\")\n",
    "plt.plot( 'x', 'MIMIC', data=df, marker='', color='green', linewidth=4, linestyle='-.', label=\"MIMIC\")\n",
    "plt.xlim(0, 1000)\n",
    "plt.xlabel('Iterations')\n",
    "plt.ylabel('State')\n",
    "plt.title('Continuous Peaks')\n",
    "plt.legend()"
   ]
  },
  {
   "cell_type": "markdown",
   "metadata": {},
   "source": [
    "# Knapsack\n",
    "\n",
    "Hayes, G. (2019). mlrose: Machine Learning, Randomized Optimization and SEarch package for Python. https://github.com/gkhayes/mlrose. Accessed: October 2, 2019.\n",
    "\n",
    "#### MIMIC performs best"
   ]
  },
  {
   "cell_type": "code",
   "execution_count": 97,
   "metadata": {},
   "outputs": [],
   "source": [
    "weights = np.array([2, 10, 3, 5, 13, 7, 3, 11, 4, 16])\n",
    "values = np.array([1, 2, 3, 4, 5, 6, 7, 8, 9, 10])\n",
    "\n",
    "# Initialize fitness function object using pre-defined class\n",
    "fitness = mlrose.Knapsack(weights, values, max_weight_pct = 0.75)\n",
    "\n",
    "# Define optimization problem object\n",
    "problem = mlrose.DiscreteOpt(length=10, fitness_fn=fitness, maximize=True)"
   ]
  },
  {
   "cell_type": "markdown",
   "metadata": {},
   "source": [
    "### Randomized Hill Climb"
   ]
  },
  {
   "cell_type": "code",
   "execution_count": 99,
   "metadata": {},
   "outputs": [
    {
     "name": "stdout",
     "output_type": "stream",
     "text": [
      "The best state:  [1 1 1 0 1 1 1 1 1 0]\n",
      "The best fitness:  41.0\n",
      "The time:  0.02721932599979482\n",
      "Iteration Count (506,)\n"
     ]
    }
   ],
   "source": [
    "start = timer()\n",
    "best_state, best_fitness, fitness_curve1 = mlrose.random_hill_climb(problem, max_attempts = max_attempts, \n",
    "                                                    max_iters = 1000, restarts = 0, \n",
    "                                                    curve = True, random_state = 1)\n",
    "\n",
    "stop = timer()\n",
    "print(\"The best state: \", best_state)\n",
    "print(\"The best fitness: \", best_fitness)\n",
    "print(\"The time: \", stop - start)\n",
    "print(\"Iteration Count\", fitness_curve1.shape)"
   ]
  },
  {
   "cell_type": "markdown",
   "metadata": {},
   "source": [
    "### Simulated Annealing"
   ]
  },
  {
   "cell_type": "code",
   "execution_count": 100,
   "metadata": {},
   "outputs": [
    {
     "name": "stdout",
     "output_type": "stream",
     "text": [
      "The best state:  [1 0 1 1 1 1 1 1 1 0]\n",
      "The best fitness:  43.0\n",
      "The time:  0.04719088699994245\n",
      "Iteration Count (691,)\n"
     ]
    }
   ],
   "source": [
    "# Define decay schedule\n",
    "#schedule = mlrose.GeomDecay(init_temp=1.0, decay=0.95, min_temp = 0.001)\n",
    "schedule = mlrose.ExpDecay(init_temp=1.0, exp_const=0.005, min_temp = 0.001)\n",
    "#schedule = mlrose.ArithDecay(init_temp=1.0, decay=0.0001, min_temp = 0.001)\n",
    "start = timer()\n",
    "best_state, best_fitness, fitness_curve2 = mlrose.simulated_annealing(problem, schedule = schedule,\n",
    "                                                      max_attempts = max_attempts, max_iters = max_iters,\n",
    "                                                      curve = True, random_state = 1)\n",
    "\n",
    "stop = timer()\n",
    "print(\"The best state: \", best_state)\n",
    "print(\"The best fitness: \", best_fitness)\n",
    "print(\"The time: \", stop - start)\n",
    "print(\"Iteration Count\", fitness_curve2.shape)"
   ]
  },
  {
   "cell_type": "markdown",
   "metadata": {},
   "source": [
    "### Genetic Algorithm"
   ]
  },
  {
   "cell_type": "code",
   "execution_count": 33,
   "metadata": {},
   "outputs": [
    {
     "name": "stdout",
     "output_type": "stream",
     "text": [
      "The best state:  [1 0 1 1 0 1 1 1 1 1]\n",
      "The best fitness:  48.0\n",
      "The time:  10.595785406000005\n",
      "Iteration Count (509,)\n"
     ]
    }
   ],
   "source": [
    "# Solve problem using the genetic algorithm\n",
    "start = timer()\n",
    "best_state, best_fitness, fitness_curve3 = mlrose.genetic_alg(problem, pop_size = 200, mutation_prob = 0.2,\n",
    "                                              max_attempts = max_attempts, max_iters = max_iters,\n",
    "                                              curve = True, random_state = 1)\n",
    "\n",
    "stop = timer()\n",
    "print(\"The best state: \", best_state)\n",
    "print(\"The best fitness: \", best_fitness)\n",
    "print(\"The time: \", stop - start)\n",
    "print(\"Iteration Count\", fitness_curve3.shape)"
   ]
  },
  {
   "cell_type": "markdown",
   "metadata": {},
   "source": [
    "### MIMIC"
   ]
  },
  {
   "cell_type": "code",
   "execution_count": 34,
   "metadata": {},
   "outputs": [
    {
     "name": "stdout",
     "output_type": "stream",
     "text": [
      "The best state:  [1 0 1 1 0 1 1 1 1 1]\n",
      "The best fitness:  48.0\n",
      "The time:  5.0447277850000205\n",
      "Iteration Count (501,)\n"
     ]
    }
   ],
   "source": [
    "#pop_size = [50, 100, 200, 300, 500]\n",
    "#keep_pct = [.1, .2, .4, .6, .8]\n",
    "#count = 0\n",
    "#while count < 5:\n",
    "start = timer()\n",
    "best_state, best_fitness, fitness_curve4 = mlrose.mimic(problem, pop_size = 400, keep_pct = .1, \n",
    "                                                           max_attempts = max_attempts, max_iters = max_iters, \n",
    "                                                           curve = True, random_state = None,\n",
    "                                                           fast_mimic = True)\n",
    "stop = timer()\n",
    "print(\"The best state: \", best_state)\n",
    "print(\"The best fitness: \", best_fitness)\n",
    "print(\"The time: \", stop - start)\n",
    "print(\"Iteration Count\", fitness_curve4.shape)    "
   ]
  },
  {
   "cell_type": "code",
   "execution_count": 35,
   "metadata": {},
   "outputs": [],
   "source": [
    "my_dict = dict(x = np.arange(1,1001), \n",
    "               RHC = fitness_curve1,\n",
    "               SA = fitness_curve2,\n",
    "               GA = fitness_curve3, \n",
    "               MIMIC = fitness_curve4)"
   ]
  },
  {
   "cell_type": "code",
   "execution_count": 36,
   "metadata": {},
   "outputs": [
    {
     "data": {
      "text/html": [
       "<div>\n",
       "<style scoped>\n",
       "    .dataframe tbody tr th:only-of-type {\n",
       "        vertical-align: middle;\n",
       "    }\n",
       "\n",
       "    .dataframe tbody tr th {\n",
       "        vertical-align: top;\n",
       "    }\n",
       "\n",
       "    .dataframe thead th {\n",
       "        text-align: right;\n",
       "    }\n",
       "</style>\n",
       "<table border=\"1\" class=\"dataframe\">\n",
       "  <thead>\n",
       "    <tr style=\"text-align: right;\">\n",
       "      <th></th>\n",
       "      <th>x</th>\n",
       "      <th>RHC</th>\n",
       "      <th>SA</th>\n",
       "      <th>GA</th>\n",
       "      <th>MIMIC</th>\n",
       "    </tr>\n",
       "  </thead>\n",
       "  <tbody>\n",
       "    <tr>\n",
       "      <td>0</td>\n",
       "      <td>1.0</td>\n",
       "      <td>38.0</td>\n",
       "      <td>38.0</td>\n",
       "      <td>46.0</td>\n",
       "      <td>48.0</td>\n",
       "    </tr>\n",
       "    <tr>\n",
       "      <td>1</td>\n",
       "      <td>2.0</td>\n",
       "      <td>38.0</td>\n",
       "      <td>38.0</td>\n",
       "      <td>46.0</td>\n",
       "      <td>48.0</td>\n",
       "    </tr>\n",
       "    <tr>\n",
       "      <td>2</td>\n",
       "      <td>3.0</td>\n",
       "      <td>38.0</td>\n",
       "      <td>38.0</td>\n",
       "      <td>46.0</td>\n",
       "      <td>48.0</td>\n",
       "    </tr>\n",
       "    <tr>\n",
       "      <td>3</td>\n",
       "      <td>4.0</td>\n",
       "      <td>38.0</td>\n",
       "      <td>38.0</td>\n",
       "      <td>46.0</td>\n",
       "      <td>48.0</td>\n",
       "    </tr>\n",
       "    <tr>\n",
       "      <td>4</td>\n",
       "      <td>5.0</td>\n",
       "      <td>38.0</td>\n",
       "      <td>41.0</td>\n",
       "      <td>46.0</td>\n",
       "      <td>48.0</td>\n",
       "    </tr>\n",
       "  </tbody>\n",
       "</table>\n",
       "</div>"
      ],
      "text/plain": [
       "     x   RHC    SA    GA  MIMIC\n",
       "0  1.0  38.0  38.0  46.0   48.0\n",
       "1  2.0  38.0  38.0  46.0   48.0\n",
       "2  3.0  38.0  38.0  46.0   48.0\n",
       "3  4.0  38.0  38.0  46.0   48.0\n",
       "4  5.0  38.0  41.0  46.0   48.0"
      ]
     },
     "execution_count": 36,
     "metadata": {},
     "output_type": "execute_result"
    }
   ],
   "source": [
    "df = pd.DataFrame.from_dict(my_dict, orient='index')\n",
    "df = df.transpose()\n",
    "df.head()"
   ]
  },
  {
   "cell_type": "code",
   "execution_count": 37,
   "metadata": {},
   "outputs": [
    {
     "data": {
      "text/plain": [
       "<matplotlib.legend.Legend at 0x104f84b50>"
      ]
     },
     "execution_count": 37,
     "metadata": {},
     "output_type": "execute_result"
    },
    {
     "data": {
      "image/png": "[encoded data removed]",
      "text/plain": [
       "<Figure size 720x432 with 1 Axes>"
      ]
     },
     "metadata": {
      "needs_background": "light"
     },
     "output_type": "display_data"
    }
   ],
   "source": [
    "# Adapted from https://python-graph-gallery.com/122-multiple-lines-chart/\n",
    "plt.figure(figsize=(10,6))\n",
    "plt.plot( 'x', 'RHC', data=df, marker='', color='blue', linewidth=4, linestyle='-', label=\"RHC\")\n",
    "plt.plot( 'x', 'SA', data=df, marker='', color='black', linewidth=4, linestyle=':', label=\"SA\")\n",
    "plt.plot( 'x', 'GA', data=df, marker='', color='red', linewidth=4, linestyle='--', label=\"GA\")\n",
    "plt.plot( 'x', 'MIMIC', data=df, marker='', color='green', linewidth=4, linestyle='-.', label=\"MIMIC\")\n",
    "plt.xlim(0, 200)\n",
    "plt.xlabel('Iterations')\n",
    "plt.ylabel('State')\n",
    "plt.title('Knapsack')\n",
    "plt.legend()"
   ]
  },
  {
   "cell_type": "markdown",
   "metadata": {},
   "source": [
    "# 4 Peaks\n",
    "\n",
    "Hayes, G. (2019). mlrose: Machine Learning, Randomized Optimization and SEarch package for Python. https://github.com/gkhayes/mlrose. Accessed: October 2, 2019.\n",
    "\n",
    "#### MIMIC Performs Best"
   ]
  },
  {
   "cell_type": "code",
   "execution_count": 38,
   "metadata": {},
   "outputs": [],
   "source": [
    "fitness = mlrose.FourPeaks(t_pct=0.10)\n",
    "\n",
    "# Define optimization problem object\n",
    "problem = mlrose.DiscreteOpt(length=100, fitness_fn=fitness, maximize=True)"
   ]
  },
  {
   "cell_type": "markdown",
   "metadata": {},
   "source": [
    "### Random Hill Climb"
   ]
  },
  {
   "cell_type": "code",
   "execution_count": 39,
   "metadata": {},
   "outputs": [
    {
     "name": "stdout",
     "output_type": "stream",
     "text": [
      "The best state:  [1 1 1 1 1 1 1 1 1 1 1 1 1 1 1 1 1 1 1 1 1 1 1 0 1 0 0 0 1 0 0 0 1 1 1 1 1\n",
      " 0 0 0 1 1 1 1 1 1 0 1 1 0 0 1 0 0 1 1 1 0 1 0 0 1 1 0 1 1 1 1 0 0 1 1 0 0\n",
      " 0 0 1 1 1 0 1 0 0 1 1 0 1 1 0 1 0 0 1 1 1 0 1 1 0 1]\n",
      "The best fitness:  23.0\n",
      "The time:  0.030519061000006786\n",
      "Iteration Count (1000,)\n"
     ]
    }
   ],
   "source": [
    "start = timer()\n",
    "best_state, best_fitness, fitness_curve1 = mlrose.random_hill_climb(problem, max_attempts = max_attempts, \n",
    "                                                    max_iters = max_iters, restarts = 0, \n",
    "                                                    curve = True, random_state = 1)\n",
    "\n",
    "stop = timer()\n",
    "print(\"The best state: \", best_state)\n",
    "print(\"The best fitness: \", best_fitness)\n",
    "print(\"The time: \", stop - start)\n",
    "print(\"Iteration Count\", fitness_curve1.shape)"
   ]
  },
  {
   "cell_type": "markdown",
   "metadata": {},
   "source": [
    "### Simulated Annealing"
   ]
  },
  {
   "cell_type": "code",
   "execution_count": 40,
   "metadata": {},
   "outputs": [
    {
     "name": "stdout",
     "output_type": "stream",
     "text": [
      "The best state:  [1 0 0 0 0 0 1 1 0 1 1 1 0 0 0 1 1 1 1 0 1 0 0 1 0 1 0 1 0 1 1 1 0 1 0 1 0\n",
      " 0 1 1 0 0 0 1 0 1 1 0 0 1 0 0 1 1 0 1 1 0 1 0 1 0 0 1 0 1 0 0 0 0 1 1 0 1\n",
      " 0 0 0 0 1 0 1 0 0 0 0 0 0 0 0 0 0 0 0 0 0 0 0 0 0 0]\n",
      "The best fitness:  19.0\n",
      "The time:  0.051768742999968254\n",
      "Iteration Count (1000,)\n"
     ]
    }
   ],
   "source": [
    "# Define decay schedule\n",
    "#schedule = mlrose.GeomDecay(init_temp=1.0, decay=0.95, min_temp = 0.001)\n",
    "schedule = mlrose.ExpDecay(init_temp=1.0, exp_const=0.005, min_temp = 0.001)\n",
    "#schedule = mlrose.ArithDecay(init_temp=1.0, decay=0.0001, min_temp = 0.001)\n",
    "start = timer()\n",
    "best_state, best_fitness, fitness_curve2 = mlrose.simulated_annealing(problem, schedule = schedule,\n",
    "                                                      max_attempts = max_attempts, max_iters = max_iters,\n",
    "                                                      curve = True, random_state = 1)\n",
    "\n",
    "stop = timer()\n",
    "print(\"The best state: \", best_state)\n",
    "print(\"The best fitness: \", best_fitness)\n",
    "print(\"The time: \", stop - start)\n",
    "print(\"Iteration Count\", fitness_curve2.shape)"
   ]
  },
  {
   "cell_type": "markdown",
   "metadata": {},
   "source": [
    "### Genetic Algorithm"
   ]
  },
  {
   "cell_type": "code",
   "execution_count": 41,
   "metadata": {},
   "outputs": [
    {
     "name": "stdout",
     "output_type": "stream",
     "text": [
      "The best state:  [1 1 1 1 1 1 1 1 1 1 1 1 1 1 0 0 0 0 0 1 1 1 1 0 1 0 1 1 0 1 1 0 1 1 0 0 1\n",
      " 0 0 1 1 0 1 0 1 0 0 0 0 0 1 0 1 1 1 0 1 1 1 1 0 0 0 1 1 1 0 1 1 0 1 1 0 1\n",
      " 0 1 0 0 1 1 1 1 0 1 0 0 0 0 1 0 0 0 0 0 0 0 0 0 0 0]\n",
      "The best fitness:  114.0\n",
      "The time:  15.276883718999954\n",
      "Iteration Count (581,)\n"
     ]
    }
   ],
   "source": [
    "# Solve problem using the genetic algorithm\n",
    "start = timer()\n",
    "best_state, best_fitness, fitness_curve3 = mlrose.genetic_alg(problem, pop_size = 200, mutation_prob = 0.2,\n",
    "                                              max_attempts = max_attempts, max_iters = max_iters,\n",
    "                                              curve = True, random_state = 1)\n",
    "\n",
    "stop = timer()\n",
    "print(\"The best state: \", best_state)\n",
    "print(\"The best fitness: \", best_fitness)\n",
    "print(\"The time: \", stop - start)\n",
    "print(\"Iteration Count\", fitness_curve3.shape)"
   ]
  },
  {
   "cell_type": "markdown",
   "metadata": {},
   "source": [
    "### MIMIC"
   ]
  },
  {
   "cell_type": "code",
   "execution_count": 42,
   "metadata": {},
   "outputs": [
    {
     "name": "stdout",
     "output_type": "stream",
     "text": [
      "The best state:  [1 1 1 1 1 1 1 1 1 1 1 0 0 1 0 1 1 0 0 0 1 1 0 1 0 1 1 1 0 0 0 1 1 1 1 1 1\n",
      " 0 0 1 0 0 0 1 0 0 0 0 1 1 1 1 1 1 1 0 1 1 0 0 1 1 0 1 0 1 0 0 0 0 1 1 0 0\n",
      " 1 1 0 0 0 0 0 0 0 0 0 0 0 0 0 0 0 0 0 0 0 0 0 0 0 0]\n",
      "The best fitness:  124.0\n",
      "The time:  32.834833269\n",
      "Iteration Count (512,)\n"
     ]
    }
   ],
   "source": [
    "start = timer()\n",
    "best_state, best_fitness, fitness_curve4 = mlrose.mimic(problem, pop_size = 200, keep_pct = 0.2, \n",
    "                                                       max_attempts = max_attempts, max_iters = max_iters, \n",
    "                                                       curve = True, random_state = 1,\n",
    "                                                       fast_mimic = True)\n",
    "\n",
    "stop = timer()\n",
    "print(\"The best state: \", best_state)\n",
    "print(\"The best fitness: \", best_fitness)\n",
    "print(\"The time: \", stop - start)\n",
    "print(\"Iteration Count\", fitness_curve4.shape)"
   ]
  },
  {
   "cell_type": "code",
   "execution_count": 43,
   "metadata": {},
   "outputs": [],
   "source": [
    "my_dict = dict(x = np.arange(1,1001), \n",
    "               RHC = fitness_curve1,\n",
    "               SA = fitness_curve2,\n",
    "               GA = fitness_curve3, \n",
    "               MIMIC = fitness_curve4)"
   ]
  },
  {
   "cell_type": "code",
   "execution_count": 44,
   "metadata": {},
   "outputs": [
    {
     "data": {
      "text/html": [
       "<div>\n",
       "<style scoped>\n",
       "    .dataframe tbody tr th:only-of-type {\n",
       "        vertical-align: middle;\n",
       "    }\n",
       "\n",
       "    .dataframe tbody tr th {\n",
       "        vertical-align: top;\n",
       "    }\n",
       "\n",
       "    .dataframe thead th {\n",
       "        text-align: right;\n",
       "    }\n",
       "</style>\n",
       "<table border=\"1\" class=\"dataframe\">\n",
       "  <thead>\n",
       "    <tr style=\"text-align: right;\">\n",
       "      <th></th>\n",
       "      <th>x</th>\n",
       "      <th>RHC</th>\n",
       "      <th>SA</th>\n",
       "      <th>GA</th>\n",
       "      <th>MIMIC</th>\n",
       "    </tr>\n",
       "  </thead>\n",
       "  <tbody>\n",
       "    <tr>\n",
       "      <td>0</td>\n",
       "      <td>1.0</td>\n",
       "      <td>2.0</td>\n",
       "      <td>2.0</td>\n",
       "      <td>9.0</td>\n",
       "      <td>11.0</td>\n",
       "    </tr>\n",
       "    <tr>\n",
       "      <td>1</td>\n",
       "      <td>2.0</td>\n",
       "      <td>2.0</td>\n",
       "      <td>2.0</td>\n",
       "      <td>9.0</td>\n",
       "      <td>15.0</td>\n",
       "    </tr>\n",
       "    <tr>\n",
       "      <td>2</td>\n",
       "      <td>3.0</td>\n",
       "      <td>2.0</td>\n",
       "      <td>2.0</td>\n",
       "      <td>10.0</td>\n",
       "      <td>15.0</td>\n",
       "    </tr>\n",
       "    <tr>\n",
       "      <td>3</td>\n",
       "      <td>4.0</td>\n",
       "      <td>2.0</td>\n",
       "      <td>2.0</td>\n",
       "      <td>10.0</td>\n",
       "      <td>15.0</td>\n",
       "    </tr>\n",
       "    <tr>\n",
       "      <td>4</td>\n",
       "      <td>5.0</td>\n",
       "      <td>2.0</td>\n",
       "      <td>2.0</td>\n",
       "      <td>15.0</td>\n",
       "      <td>16.0</td>\n",
       "    </tr>\n",
       "  </tbody>\n",
       "</table>\n",
       "</div>"
      ],
      "text/plain": [
       "     x  RHC   SA    GA  MIMIC\n",
       "0  1.0  2.0  2.0   9.0   11.0\n",
       "1  2.0  2.0  2.0   9.0   15.0\n",
       "2  3.0  2.0  2.0  10.0   15.0\n",
       "3  4.0  2.0  2.0  10.0   15.0\n",
       "4  5.0  2.0  2.0  15.0   16.0"
      ]
     },
     "execution_count": 44,
     "metadata": {},
     "output_type": "execute_result"
    }
   ],
   "source": [
    "df = pd.DataFrame.from_dict(my_dict, orient='index')\n",
    "df = df.transpose()\n",
    "df.head()"
   ]
  },
  {
   "cell_type": "code",
   "execution_count": 45,
   "metadata": {},
   "outputs": [
    {
     "data": {
      "text/plain": [
       "<matplotlib.legend.Legend at 0x120020690>"
      ]
     },
     "execution_count": 45,
     "metadata": {},
     "output_type": "execute_result"
    },
    {
     "data": {
      "image/png": "[encoded data removed]",
      "text/plain": [
       "<Figure size 720x432 with 1 Axes>"
      ]
     },
     "metadata": {
      "needs_background": "light"
     },
     "output_type": "display_data"
    }
   ],
   "source": [
    "# Adapted from https://python-graph-gallery.com/122-multiple-lines-chart/\n",
    "plt.figure(figsize=(10,6))\n",
    "plt.plot( 'x', 'RHC', data=df, marker='', color='blue', linewidth=4, linestyle='-', label=\"RHC\")\n",
    "plt.plot( 'x', 'SA', data=df, marker='', color='black', linewidth=4, linestyle=':', label=\"SA\")\n",
    "plt.plot( 'x', 'GA', data=df, marker='', color='red', linewidth=4, linestyle='--', label=\"GA\")\n",
    "plt.plot( 'x', 'MIMIC', data=df, marker='', color='green', linewidth=4, linestyle='-.', label=\"MIMIC\")\n",
    "plt.xlim(0, 1000)\n",
    "plt.xlabel('Iterations')\n",
    "plt.ylabel('State')\n",
    "plt.title('4 Peaks')\n",
    "plt.legend()"
   ]
  },
  {
   "cell_type": "markdown",
   "metadata": {},
   "source": [
    "# =======================================\n",
    "# Neural Network Optimization - Red & White Wine\n",
    "# ======================================="
   ]
  },
  {
   "cell_type": "code",
   "execution_count": 494,
   "metadata": {},
   "outputs": [],
   "source": [
    "from sklearn import preprocessing\n",
    "from sklearn.preprocessing import MinMaxScaler\n",
    "from sklearn.neural_network import MLPClassifier\n",
    "from sklearn.model_selection import train_test_split, cross_val_score, ShuffleSplit, GridSearchCV\n",
    "\n",
    "wineData = pd.read_csv('redwhitedata.csv', delimiter=',')"
   ]
  },
  {
   "cell_type": "code",
   "execution_count": 495,
   "metadata": {},
   "outputs": [],
   "source": [
    "# Adapted from https://towardsdatascience.com/demystifying-confusion-matrix-confusion-9e82201592fd\n",
    "\n",
    "def plot_confusion_matrix(cm, classes, title, cmap=plt.cm.Greys):\n",
    "    \n",
    "    accuracy = np.trace(cm) / float(np.sum(cm))\n",
    "    misclass = 1 - accuracy\n",
    "    \n",
    "    \n",
    "    plt.figure()\n",
    "    plt.imshow(cm, interpolation='nearest', cmap=cmap)\n",
    "    plt.title(title)\n",
    "    plt.colorbar()\n",
    "    tick_marks = np.arange(len(classes))\n",
    "    plt.xticks(tick_marks, classes, rotation=45)\n",
    "    plt.yticks(tick_marks, classes)\n",
    "\n",
    "    fmt = 'd'\n",
    "    thresh = cm.max() / 2.0\n",
    "    for i, j in itertools.product(range(cm.shape[0]), range(cm.shape[1])):\n",
    "        plt.text(j, i, format(cm[i, j], fmt),\n",
    "                 horizontalalignment=\"center\", verticalalignment=\"center\",\n",
    "                 color=\"white\" if cm[i, j] > thresh else \"black\")\n",
    "        \n",
    "    plt.ylabel('True label')\n",
    "    plt.xlabel('Predicted label\\naccuracy={:0.4f}; misclass={:0.4f}'.format(accuracy, misclass))\n",
    "    plt.tight_layout()\n",
    "    \n",
    "    return plt"
   ]
  },
  {
   "cell_type": "code",
   "execution_count": 496,
   "metadata": {},
   "outputs": [],
   "source": [
    "# Plot learning curves\n",
    "# Adapted from https://scikit-learn.org/stable/auto_examples/model_selection/plot_learning_curve.html\n",
    "\n",
    "def plot_learning_curve(estimator, title, X, y, ylim=None, cv=None,\n",
    "                        n_jobs=-1, train_sizes=np.linspace(.1, 1.0, 5)):\n",
    "    plt.close()\n",
    "    plt.figure()\n",
    "    plt.title(title)\n",
    "    if ylim is not None:\n",
    "        plt.ylim(*ylim)\n",
    "    plt.xlabel(\"Training examples\")\n",
    "    plt.ylabel(\"Score\")\n",
    "    train_sizes, train_scores, test_scores = learning_curve(\n",
    "        estimator, X, y, cv=cv, n_jobs=-1, train_sizes=train_sizes)\n",
    "    train_scores_mean = np.mean(train_scores, axis=1)\n",
    "    train_scores_std = np.std(train_scores, axis=1)\n",
    "    test_scores_mean = np.mean(test_scores, axis=1)\n",
    "    test_scores_std = np.std(test_scores, axis=1)\n",
    "\n",
    "    plt.fill_between(train_sizes, train_scores_mean - train_scores_std,\n",
    "                     train_scores_mean + train_scores_std, alpha=0.1,\n",
    "                     color=\"r\")\n",
    "    plt.fill_between(train_sizes, test_scores_mean - test_scores_std,\n",
    "                     test_scores_mean + test_scores_std, alpha=0.1, color=\"b\")\n",
    "    plt.plot(train_sizes, train_scores_mean, 'o-', color=\"r\",\n",
    "             label=\"Training score\")\n",
    "    plt.plot(train_sizes, test_scores_mean, 'o-', color=\"b\",\n",
    "             label=\"Cross-validation score\")\n",
    "\n",
    "    plt.legend(loc=\"best\")"
   ]
  },
  {
   "cell_type": "markdown",
   "metadata": {},
   "source": [
    "### Process Data"
   ]
  },
  {
   "cell_type": "code",
   "execution_count": 497,
   "metadata": {},
   "outputs": [
    {
     "data": {
      "text/html": [
       "<div>\n",
       "<style scoped>\n",
       "    .dataframe tbody tr th:only-of-type {\n",
       "        vertical-align: middle;\n",
       "    }\n",
       "\n",
       "    .dataframe tbody tr th {\n",
       "        vertical-align: top;\n",
       "    }\n",
       "\n",
       "    .dataframe thead th {\n",
       "        text-align: right;\n",
       "    }\n",
       "</style>\n",
       "<table border=\"1\" class=\"dataframe\">\n",
       "  <thead>\n",
       "    <tr style=\"text-align: right;\">\n",
       "      <th></th>\n",
       "      <th>Unnamed: 0</th>\n",
       "      <th>fixed acidity</th>\n",
       "      <th>volatile acidity</th>\n",
       "      <th>citric acid</th>\n",
       "      <th>residual sugar</th>\n",
       "      <th>chlorides</th>\n",
       "      <th>free sulfur dioxide</th>\n",
       "      <th>total sulfur dioxide</th>\n",
       "      <th>density</th>\n",
       "      <th>pH</th>\n",
       "      <th>sulphates</th>\n",
       "      <th>alcohol</th>\n",
       "      <th>quality</th>\n",
       "    </tr>\n",
       "  </thead>\n",
       "  <tbody>\n",
       "    <tr>\n",
       "      <td>0</td>\n",
       "      <td>0</td>\n",
       "      <td>7.4</td>\n",
       "      <td>0.70</td>\n",
       "      <td>0.00</td>\n",
       "      <td>1.9</td>\n",
       "      <td>0.076</td>\n",
       "      <td>11.0</td>\n",
       "      <td>34.0</td>\n",
       "      <td>0.9978</td>\n",
       "      <td>3.51</td>\n",
       "      <td>0.56</td>\n",
       "      <td>9.4</td>\n",
       "      <td>5</td>\n",
       "    </tr>\n",
       "    <tr>\n",
       "      <td>1</td>\n",
       "      <td>1</td>\n",
       "      <td>7.8</td>\n",
       "      <td>0.88</td>\n",
       "      <td>0.00</td>\n",
       "      <td>2.6</td>\n",
       "      <td>0.098</td>\n",
       "      <td>25.0</td>\n",
       "      <td>67.0</td>\n",
       "      <td>0.9968</td>\n",
       "      <td>3.20</td>\n",
       "      <td>0.68</td>\n",
       "      <td>9.8</td>\n",
       "      <td>5</td>\n",
       "    </tr>\n",
       "    <tr>\n",
       "      <td>2</td>\n",
       "      <td>2</td>\n",
       "      <td>7.8</td>\n",
       "      <td>0.76</td>\n",
       "      <td>0.04</td>\n",
       "      <td>2.3</td>\n",
       "      <td>0.092</td>\n",
       "      <td>15.0</td>\n",
       "      <td>54.0</td>\n",
       "      <td>0.9970</td>\n",
       "      <td>3.26</td>\n",
       "      <td>0.65</td>\n",
       "      <td>9.8</td>\n",
       "      <td>5</td>\n",
       "    </tr>\n",
       "    <tr>\n",
       "      <td>3</td>\n",
       "      <td>3</td>\n",
       "      <td>11.2</td>\n",
       "      <td>0.28</td>\n",
       "      <td>0.56</td>\n",
       "      <td>1.9</td>\n",
       "      <td>0.075</td>\n",
       "      <td>17.0</td>\n",
       "      <td>60.0</td>\n",
       "      <td>0.9980</td>\n",
       "      <td>3.16</td>\n",
       "      <td>0.58</td>\n",
       "      <td>9.8</td>\n",
       "      <td>6</td>\n",
       "    </tr>\n",
       "    <tr>\n",
       "      <td>4</td>\n",
       "      <td>4</td>\n",
       "      <td>7.4</td>\n",
       "      <td>0.70</td>\n",
       "      <td>0.00</td>\n",
       "      <td>1.9</td>\n",
       "      <td>0.076</td>\n",
       "      <td>11.0</td>\n",
       "      <td>34.0</td>\n",
       "      <td>0.9978</td>\n",
       "      <td>3.51</td>\n",
       "      <td>0.56</td>\n",
       "      <td>9.4</td>\n",
       "      <td>5</td>\n",
       "    </tr>\n",
       "  </tbody>\n",
       "</table>\n",
       "</div>"
      ],
      "text/plain": [
       "   Unnamed: 0  fixed acidity  volatile acidity  citric acid  residual sugar  \\\n",
       "0           0            7.4              0.70         0.00             1.9   \n",
       "1           1            7.8              0.88         0.00             2.6   \n",
       "2           2            7.8              0.76         0.04             2.3   \n",
       "3           3           11.2              0.28         0.56             1.9   \n",
       "4           4            7.4              0.70         0.00             1.9   \n",
       "\n",
       "   chlorides  free sulfur dioxide  total sulfur dioxide  density    pH  \\\n",
       "0      0.076                 11.0                  34.0   0.9978  3.51   \n",
       "1      0.098                 25.0                  67.0   0.9968  3.20   \n",
       "2      0.092                 15.0                  54.0   0.9970  3.26   \n",
       "3      0.075                 17.0                  60.0   0.9980  3.16   \n",
       "4      0.076                 11.0                  34.0   0.9978  3.51   \n",
       "\n",
       "   sulphates  alcohol  quality  \n",
       "0       0.56      9.4        5  \n",
       "1       0.68      9.8        5  \n",
       "2       0.65      9.8        5  \n",
       "3       0.58      9.8        6  \n",
       "4       0.56      9.4        5  "
      ]
     },
     "execution_count": 497,
     "metadata": {},
     "output_type": "execute_result"
    }
   ],
   "source": [
    "wineData.head()"
   ]
  },
  {
   "cell_type": "code",
   "execution_count": 498,
   "metadata": {},
   "outputs": [],
   "source": [
    "wineData = wineData.drop('Unnamed: 0', axis=1)  # Random column showing up-- DROP it, no, you Drop it\n",
    "wineData = wineData.sample(frac=1).reset_index(drop=True)  # Shuffle red and white"
   ]
  },
  {
   "cell_type": "code",
   "execution_count": 499,
   "metadata": {},
   "outputs": [
    {
     "data": {
      "text/html": [
       "<div>\n",
       "<style scoped>\n",
       "    .dataframe tbody tr th:only-of-type {\n",
       "        vertical-align: middle;\n",
       "    }\n",
       "\n",
       "    .dataframe tbody tr th {\n",
       "        vertical-align: top;\n",
       "    }\n",
       "\n",
       "    .dataframe thead th {\n",
       "        text-align: right;\n",
       "    }\n",
       "</style>\n",
       "<table border=\"1\" class=\"dataframe\">\n",
       "  <thead>\n",
       "    <tr style=\"text-align: right;\">\n",
       "      <th></th>\n",
       "      <th>fixed acidity</th>\n",
       "      <th>volatile acidity</th>\n",
       "      <th>citric acid</th>\n",
       "      <th>residual sugar</th>\n",
       "      <th>chlorides</th>\n",
       "      <th>free sulfur dioxide</th>\n",
       "      <th>total sulfur dioxide</th>\n",
       "      <th>density</th>\n",
       "      <th>pH</th>\n",
       "      <th>sulphates</th>\n",
       "      <th>alcohol</th>\n",
       "      <th>quality</th>\n",
       "    </tr>\n",
       "  </thead>\n",
       "  <tbody>\n",
       "    <tr>\n",
       "      <td>0</td>\n",
       "      <td>6.2</td>\n",
       "      <td>0.34</td>\n",
       "      <td>0.29</td>\n",
       "      <td>7.6</td>\n",
       "      <td>0.047</td>\n",
       "      <td>45.0</td>\n",
       "      <td>232.0</td>\n",
       "      <td>0.9955</td>\n",
       "      <td>3.35</td>\n",
       "      <td>0.62</td>\n",
       "      <td>10.0</td>\n",
       "      <td>6</td>\n",
       "    </tr>\n",
       "    <tr>\n",
       "      <td>1</td>\n",
       "      <td>6.4</td>\n",
       "      <td>0.17</td>\n",
       "      <td>0.27</td>\n",
       "      <td>6.7</td>\n",
       "      <td>0.036</td>\n",
       "      <td>88.0</td>\n",
       "      <td>223.0</td>\n",
       "      <td>0.9948</td>\n",
       "      <td>3.28</td>\n",
       "      <td>0.35</td>\n",
       "      <td>10.2</td>\n",
       "      <td>6</td>\n",
       "    </tr>\n",
       "    <tr>\n",
       "      <td>2</td>\n",
       "      <td>7.4</td>\n",
       "      <td>0.21</td>\n",
       "      <td>0.27</td>\n",
       "      <td>1.2</td>\n",
       "      <td>0.041</td>\n",
       "      <td>27.0</td>\n",
       "      <td>99.0</td>\n",
       "      <td>0.9927</td>\n",
       "      <td>3.19</td>\n",
       "      <td>0.33</td>\n",
       "      <td>9.8</td>\n",
       "      <td>6</td>\n",
       "    </tr>\n",
       "    <tr>\n",
       "      <td>3</td>\n",
       "      <td>8.2</td>\n",
       "      <td>0.28</td>\n",
       "      <td>0.42</td>\n",
       "      <td>1.8</td>\n",
       "      <td>0.031</td>\n",
       "      <td>30.0</td>\n",
       "      <td>93.0</td>\n",
       "      <td>0.9917</td>\n",
       "      <td>3.09</td>\n",
       "      <td>0.39</td>\n",
       "      <td>11.4</td>\n",
       "      <td>5</td>\n",
       "    </tr>\n",
       "    <tr>\n",
       "      <td>4</td>\n",
       "      <td>7.6</td>\n",
       "      <td>0.41</td>\n",
       "      <td>0.33</td>\n",
       "      <td>2.5</td>\n",
       "      <td>0.078</td>\n",
       "      <td>6.0</td>\n",
       "      <td>23.0</td>\n",
       "      <td>0.9957</td>\n",
       "      <td>3.30</td>\n",
       "      <td>0.58</td>\n",
       "      <td>11.2</td>\n",
       "      <td>5</td>\n",
       "    </tr>\n",
       "  </tbody>\n",
       "</table>\n",
       "</div>"
      ],
      "text/plain": [
       "   fixed acidity  volatile acidity  citric acid  residual sugar  chlorides  \\\n",
       "0            6.2              0.34         0.29             7.6      0.047   \n",
       "1            6.4              0.17         0.27             6.7      0.036   \n",
       "2            7.4              0.21         0.27             1.2      0.041   \n",
       "3            8.2              0.28         0.42             1.8      0.031   \n",
       "4            7.6              0.41         0.33             2.5      0.078   \n",
       "\n",
       "   free sulfur dioxide  total sulfur dioxide  density    pH  sulphates  \\\n",
       "0                 45.0                 232.0   0.9955  3.35       0.62   \n",
       "1                 88.0                 223.0   0.9948  3.28       0.35   \n",
       "2                 27.0                  99.0   0.9927  3.19       0.33   \n",
       "3                 30.0                  93.0   0.9917  3.09       0.39   \n",
       "4                  6.0                  23.0   0.9957  3.30       0.58   \n",
       "\n",
       "   alcohol  quality  \n",
       "0     10.0        6  \n",
       "1     10.2        6  \n",
       "2      9.8        6  \n",
       "3     11.4        5  \n",
       "4     11.2        5  "
      ]
     },
     "execution_count": 499,
     "metadata": {},
     "output_type": "execute_result"
    }
   ],
   "source": [
    "wineData.head()"
   ]
  },
  {
   "cell_type": "code",
   "execution_count": 500,
   "metadata": {},
   "outputs": [],
   "source": [
    "#Build out classification on quality split from Assignment 1\n",
    "badWine = wineData.loc[wineData['quality'] <= 6].index\n",
    "goodWine = wineData.loc[wineData['quality'] > 6].index\n",
    "wineData.iloc[badWine, wineData.columns.get_loc('quality')] = 0\n",
    "wineData.iloc[goodWine, wineData.columns.get_loc('quality')] = 1"
   ]
  },
  {
   "cell_type": "code",
   "execution_count": 501,
   "metadata": {},
   "outputs": [
    {
     "data": {
      "text/plain": [
       "0    2616\n",
       "1     582\n",
       "Name: quality, dtype: int64"
      ]
     },
     "execution_count": 501,
     "metadata": {},
     "output_type": "execute_result"
    }
   ],
   "source": [
    "wineData['quality'].value_counts()"
   ]
  },
  {
   "cell_type": "code",
   "execution_count": 502,
   "metadata": {},
   "outputs": [],
   "source": [
    "X = wineData.drop('quality',axis=1)\n",
    "y = wineData['quality']"
   ]
  },
  {
   "cell_type": "code",
   "execution_count": 503,
   "metadata": {},
   "outputs": [],
   "source": [
    "X_train, X_test, y_train, y_test = train_test_split(X, y, test_size=0.4, random_state=1)"
   ]
  },
  {
   "cell_type": "code",
   "execution_count": 504,
   "metadata": {},
   "outputs": [],
   "source": [
    "scaler = MinMaxScaler()\n",
    "X_train = scaler.fit_transform(X_train)\n",
    "X_test = scaler.transform(X_test)"
   ]
  },
  {
   "cell_type": "markdown",
   "metadata": {},
   "source": [
    "### Artificial Neural Network - Backpropogation"
   ]
  },
  {
   "cell_type": "code",
   "execution_count": 505,
   "metadata": {},
   "outputs": [],
   "source": [
    "# Best Params from Assignment 1\n",
    "ann = MLPClassifier(hidden_layer_sizes=(5,), \n",
    "                    max_iter=1000, \n",
    "                    alpha = 0.1,\n",
    "                    learning_rate_init = .01,\n",
    "                    activation = 'tanh',\n",
    "                    shuffle = True,\n",
    "                    early_stopping = True,\n",
    "                    solver = 'lbfgs',\n",
    "                    random_state = 1)"
   ]
  },
  {
   "cell_type": "code",
   "execution_count": 506,
   "metadata": {},
   "outputs": [
    {
     "name": "stdout",
     "output_type": "stream",
     "text": [
      "Time for fit:  0.3388095330010401\n"
     ]
    }
   ],
   "source": [
    "start = timer()\n",
    "ann.fit(X_train, y_train)\n",
    "end = timer()\n",
    "print(\"Time for fit: \", end - start)"
   ]
  },
  {
   "cell_type": "code",
   "execution_count": 508,
   "metadata": {},
   "outputs": [
    {
     "name": "stdout",
     "output_type": "stream",
     "text": [
      "Accuracy Test Score:  0.8265625\n",
      "Accuracy Train Score: 0.8696558915537018\n",
      "Cross Value: 0.83 (+/- 0.01)\n",
      "----\n",
      "Precision Score : 0.6038961038961039\n",
      "Recall Score : 0.3661417322834646\n",
      "F1 Score : 0.45588235294117646\n",
      "----\n",
      "RMSE: 0.1734375\n",
      "----\n",
      "Confusion Matrix : \n",
      "[[965  61]\n",
      " [161  93]]\n"
     ]
    }
   ],
   "source": [
    "y_pred = ann.predict(X_test)\n",
    "ann_acc = accuracy_score(y_test, y_pred)\n",
    "y_pred_train = ann.predict(X_train)\n",
    "ann_acc_train = accuracy_score(y_train, y_pred_train)\n",
    "scores = cross_val_score(ann, X, y, cv=5)\n",
    "print(\"Accuracy Test Score: \", ann_acc)\n",
    "print(\"Accuracy Train Score:\", ann_acc_train)\n",
    "print(\"Cross Value: %0.2f (+/- %0.2f)\" % (scores.mean(), scores.std() * 2))\n",
    "print(\"----\")\n",
    "print('Precision Score : ' + str(precision_score(y_test,y_pred)))\n",
    "print('Recall Score : ' + str(recall_score(y_test,y_pred)))\n",
    "print('F1 Score : ' + str(f1_score(y_test,y_pred)))\n",
    "print(\"----\")\n",
    "print('RMSE: ' + str(mean_squared_error(y_test, y_pred)))\n",
    "print(\"----\")\n",
    "print('Confusion Matrix : \\n' + str(confusion_matrix(y_test,y_pred)))"
   ]
  },
  {
   "cell_type": "code",
   "execution_count": 509,
   "metadata": {},
   "outputs": [
    {
     "data": {
      "image/png": "[encoded data removed]",
      "text/plain": [
       "<Figure size 432x288 with 2 Axes>"
      ]
     },
     "metadata": {
      "needs_background": "light"
     },
     "output_type": "display_data"
    }
   ],
   "source": [
    "np.set_printoptions(precision=2)\n",
    "cm = confusion_matrix(y_test, y_pred)\n",
    "plt_cm = plot_confusion_matrix(cm, ['Negative', 'Positive'],\n",
    "                                    title='Confusion Matrix: {} - {}'.format('Back Prop', 'R&W Wine'))\n",
    "plt_cm.show()"
   ]
  },
  {
   "cell_type": "code",
   "execution_count": 510,
   "metadata": {},
   "outputs": [
    {
     "data": {
      "image/png": "[encoded data removed]",
      "text/plain": [
       "<Figure size 432x288 with 1 Axes>"
      ]
     },
     "metadata": {
      "needs_background": "light"
     },
     "output_type": "display_data"
    }
   ],
   "source": [
    "# Plot learning curve\n",
    "title = \"Learning Curves - NN - Backpropogation\"\n",
    "cv = ShuffleSplit(n_splits=10, test_size=0.4, random_state=1)\n",
    "plot_learning_curve(ann, title, X_train, y_train, ylim=(0.7, 1.01), cv=cv, n_jobs=-1)\n",
    "plt.grid()\n",
    "plt.show()"
   ]
  },
  {
   "cell_type": "markdown",
   "metadata": {},
   "source": [
    "### Artificial Neural Network - Random Hill Climb"
   ]
  },
  {
   "cell_type": "code",
   "execution_count": 511,
   "metadata": {},
   "outputs": [],
   "source": [
    "ann = mlrose.NeuralNetwork(hidden_nodes=[1], activation='tanh',\n",
    "                           algorithm = 'random_hill_climb',\n",
    "                           is_classifier = True, early_stopping = True,\n",
    "                           max_attempts = 200, max_iters = 5000,\n",
    "                           bias = True, learning_rate = .5,\n",
    "                           restarts=0, curve = True, random_state=1)"
   ]
  },
  {
   "cell_type": "code",
   "execution_count": 512,
   "metadata": {},
   "outputs": [
    {
     "name": "stdout",
     "output_type": "stream",
     "text": [
      "Time for fit:  0.7729987310012802\n"
     ]
    }
   ],
   "source": [
    "start = timer()\n",
    "ann.fit(X_train, y_train)\n",
    "end = timer()\n",
    "print(\"Time for fit: \", end - start)"
   ]
  },
  {
   "cell_type": "code",
   "execution_count": 513,
   "metadata": {},
   "outputs": [
    {
     "data": {
      "text/plain": [
       "690"
      ]
     },
     "execution_count": 513,
     "metadata": {},
     "output_type": "execute_result"
    }
   ],
   "source": [
    "# Iteration size\n",
    "ann.fitness_curve.size"
   ]
  },
  {
   "cell_type": "code",
   "execution_count": 514,
   "metadata": {},
   "outputs": [],
   "source": [
    "RHC = ann.fitness_curve"
   ]
  },
  {
   "cell_type": "code",
   "execution_count": 516,
   "metadata": {},
   "outputs": [
    {
     "name": "stdout",
     "output_type": "stream",
     "text": [
      "Accuracy Test Score:  0.8234375\n",
      "Accuracy Train Score: 0.8342022940563086\n",
      "Cross Value: 0.82 (+/- 0.00)\n",
      "----\n",
      "Precision Score : 0.6206896551724138\n",
      "Recall Score : 0.28346456692913385\n",
      "F1 Score : 0.38918918918918916\n",
      "----\n",
      "RMSE: 0.1765625\n",
      "----\n",
      "Confusion Matrix : \n",
      "[[982  44]\n",
      " [182  72]]\n"
     ]
    }
   ],
   "source": [
    "y_pred = ann.predict(X_test)\n",
    "ann_acc = accuracy_score(y_test, y_pred)\n",
    "y_pred_train = ann.predict(X_train)\n",
    "ann_acc_train = accuracy_score(y_train, y_pred_train)\n",
    "scores = cross_val_score(ann, X, y, cv=10)\n",
    "print(\"Accuracy Test Score: \", ann_acc)\n",
    "print(\"Accuracy Train Score:\", ann_acc_train)\n",
    "print(\"Cross Value: %0.2f (+/- %0.2f)\" % (scores.mean(), scores.std() * 2))\n",
    "print(\"----\")\n",
    "print('Precision Score : ' + str(precision_score(y_test,y_pred)))\n",
    "print('Recall Score : ' + str(recall_score(y_test,y_pred)))\n",
    "print('F1 Score : ' + str(f1_score(y_test,y_pred)))\n",
    "print(\"----\")\n",
    "print('RMSE: ' + str(mean_squared_error(y_test, y_pred)))\n",
    "print(\"----\")\n",
    "print('Confusion Matrix : \\n' + str(confusion_matrix(y_test,y_pred)))"
   ]
  },
  {
   "cell_type": "code",
   "execution_count": 517,
   "metadata": {},
   "outputs": [
    {
     "data": {
      "image/png": "[encoded data removed]",
      "text/plain": [
       "<Figure size 432x288 with 2 Axes>"
      ]
     },
     "metadata": {
      "needs_background": "light"
     },
     "output_type": "display_data"
    }
   ],
   "source": [
    "cm = confusion_matrix(y_test, y_pred)\n",
    "plt_cm = plot_confusion_matrix(cm, ['Negative', 'Positive'],\n",
    "                                    title='Confusion Matrix: {} - {}'.format('NN - RHC', 'Red & White Wine'))\n",
    "plt_cm.show()"
   ]
  },
  {
   "cell_type": "code",
   "execution_count": 518,
   "metadata": {},
   "outputs": [
    {
     "data": {
      "image/png": "[encoded data removed]",
      "text/plain": [
       "<Figure size 432x288 with 1 Axes>"
      ]
     },
     "metadata": {
      "needs_background": "light"
     },
     "output_type": "display_data"
    }
   ],
   "source": [
    "# Plot learning curve\n",
    "title = \"Learning Curves - NN - RHC - Tuned NN\"\n",
    "cv = ShuffleSplit(n_splits=10, test_size=0.4, random_state=1)\n",
    "plot_learning_curve(ann, title, X_train, y_train, ylim=(0.7, 1.01), cv=10, n_jobs=-1)\n",
    "plt.grid()\n",
    "plt.show()"
   ]
  },
  {
   "cell_type": "markdown",
   "metadata": {},
   "source": [
    "### Artificial Neural Network - Simulated Annealing"
   ]
  },
  {
   "cell_type": "code",
   "execution_count": 529,
   "metadata": {},
   "outputs": [],
   "source": [
    "ann = mlrose.NeuralNetwork(hidden_nodes=[1], activation='tanh',\n",
    "                           algorithm='simulated_annealing', is_classifier=True,\n",
    "                           early_stopping = True, random_state = 1,\n",
    "                           max_attempts = 200, max_iters = 5000,\n",
    "                           bias = True, learning_rate = .1, curve = True,\n",
    "                           schedule=mlrose.GeomDecay(init_temp=100.0, decay=0.95, min_temp=0.00001))"
   ]
  },
  {
   "cell_type": "code",
   "execution_count": 530,
   "metadata": {},
   "outputs": [
    {
     "name": "stdout",
     "output_type": "stream",
     "text": [
      "Time for fit:  4.995383879999281\n"
     ]
    }
   ],
   "source": [
    "start = timer()\n",
    "ann.fit(X_train, y_train)\n",
    "end = timer()\n",
    "print(\"Time for fit: \", end - start)"
   ]
  },
  {
   "cell_type": "code",
   "execution_count": 531,
   "metadata": {},
   "outputs": [
    {
     "data": {
      "text/plain": [
       "4124"
      ]
     },
     "execution_count": 531,
     "metadata": {},
     "output_type": "execute_result"
    }
   ],
   "source": [
    "# Iteration size\n",
    "ann.fitness_curve.size"
   ]
  },
  {
   "cell_type": "code",
   "execution_count": 532,
   "metadata": {},
   "outputs": [],
   "source": [
    "SA = ann.fitness_curve"
   ]
  },
  {
   "cell_type": "code",
   "execution_count": 533,
   "metadata": {},
   "outputs": [
    {
     "name": "stdout",
     "output_type": "stream",
     "text": [
      "Accuracy Test Score:  0.83046875\n",
      "Accuracy Train Score: 0.8420229405630866\n",
      "Cross Value: 0.82 (+/- 0.00)\n",
      "----\n",
      "Precision Score : 0.6637168141592921\n",
      "Recall Score : 0.2952755905511811\n",
      "F1 Score : 0.40871934604904625\n",
      "----\n",
      "RMSE: 0.16953125\n",
      "----\n",
      "Confusion Matrix : \n",
      "[[988  38]\n",
      " [179  75]]\n"
     ]
    }
   ],
   "source": [
    "y_pred = ann.predict(X_test)\n",
    "ann_acc = accuracy_score(y_test, y_pred)\n",
    "y_pred_train = ann.predict(X_train)\n",
    "ann_acc_train = accuracy_score(y_train, y_pred_train)\n",
    "scores = cross_val_score(ann, X, y, cv=5)\n",
    "print(\"Accuracy Test Score: \", ann_acc)\n",
    "print(\"Accuracy Train Score:\", ann_acc_train)\n",
    "print(\"Cross Value: %0.2f (+/- %0.2f)\" % (scores.mean(), scores.std() * 2))\n",
    "print(\"----\")\n",
    "print('Precision Score : ' + str(precision_score(y_test,y_pred)))\n",
    "print('Recall Score : ' + str(recall_score(y_test,y_pred)))\n",
    "print('F1 Score : ' + str(f1_score(y_test,y_pred)))\n",
    "print(\"----\")\n",
    "print('RMSE: ' + str(mean_squared_error(y_test, y_pred)))\n",
    "print(\"----\")\n",
    "print('Confusion Matrix : \\n' + str(confusion_matrix(y_test,y_pred)))"
   ]
  },
  {
   "cell_type": "code",
   "execution_count": 534,
   "metadata": {},
   "outputs": [
    {
     "data": {
      "image/png": "[encoded data removed]",
      "text/plain": [
       "<Figure size 432x288 with 2 Axes>"
      ]
     },
     "metadata": {
      "needs_background": "light"
     },
     "output_type": "display_data"
    }
   ],
   "source": [
    "c_matrix = confusion_matrix(y_test, y_pred)\n",
    "plt_c_matrix = plot_confusion_matrix(c_matrix, ['Negative', 'Positive'],\n",
    "                                    title='Confusion Matrix: {} - {}'.format('NN - SA', 'Red & White Wine'))\n",
    "plt_c_matrix.show()"
   ]
  },
  {
   "cell_type": "code",
   "execution_count": 535,
   "metadata": {},
   "outputs": [
    {
     "data": {
      "image/png": "[encoded data removed]",
      "text/plain": [
       "<Figure size 432x288 with 1 Axes>"
      ]
     },
     "metadata": {
      "needs_background": "light"
     },
     "output_type": "display_data"
    }
   ],
   "source": [
    "# Plot learning curve\n",
    "title = \"Learning Curves - NN - SA\"\n",
    "cv = ShuffleSplit(n_splits=10, test_size=0.4, random_state=1)\n",
    "plot_learning_curve(ann, title, X_train, y_train, ylim=(0.7, 1.01), cv=cv, n_jobs=-1)\n",
    "plt.grid()\n",
    "plt.show()"
   ]
  },
  {
   "cell_type": "markdown",
   "metadata": {},
   "source": [
    "### Artificial Neural Network - Genetic Algorithm"
   ]
  },
  {
   "cell_type": "code",
   "execution_count": 587,
   "metadata": {},
   "outputs": [],
   "source": [
    "ann = mlrose.NeuralNetwork(hidden_nodes=[1], activation='tanh',\n",
    "                           algorithm='genetic_alg', is_classifier = True,\n",
    "                           early_stopping = True, random_state=1,\n",
    "                           pop_size = 200,\n",
    "                           max_attempts = 100, max_iters = 5000,\n",
    "                           bias = True, learning_rate = .3,\n",
    "                           mutation_prob=0.2, curve = True)"
   ]
  },
  {
   "cell_type": "code",
   "execution_count": 588,
   "metadata": {},
   "outputs": [],
   "source": [
    "import warnings\n",
    "warnings.filterwarnings('ignore')"
   ]
  },
  {
   "cell_type": "code",
   "execution_count": 589,
   "metadata": {},
   "outputs": [
    {
     "name": "stdout",
     "output_type": "stream",
     "text": [
      "Time for fit:  29.00061014899984\n"
     ]
    }
   ],
   "source": [
    "start = timer()\n",
    "ann.fit(X_train, y_train)\n",
    "end = timer()\n",
    "print(\"Time for fit: \", end - start)"
   ]
  },
  {
   "cell_type": "code",
   "execution_count": 590,
   "metadata": {},
   "outputs": [
    {
     "data": {
      "text/plain": [
       "145"
      ]
     },
     "execution_count": 590,
     "metadata": {},
     "output_type": "execute_result"
    }
   ],
   "source": [
    "# Iteration size\n",
    "ann.fitness_curve.size"
   ]
  },
  {
   "cell_type": "code",
   "execution_count": 591,
   "metadata": {},
   "outputs": [],
   "source": [
    "GA = ann.fitness_curve"
   ]
  },
  {
   "cell_type": "code",
   "execution_count": 592,
   "metadata": {},
   "outputs": [
    {
     "name": "stdout",
     "output_type": "stream",
     "text": [
      "Accuracy Test Score:  0.81953125\n",
      "Accuracy Train Score: 0.8404588112617309\n",
      "Cross Value: 0.82 (+/- 0.00)\n",
      "----\n",
      "Precision Score : 0.6055045871559633\n",
      "Recall Score : 0.25984251968503935\n",
      "F1 Score : 0.36363636363636365\n",
      "----\n",
      "RMSE: 0.18046875\n",
      "----\n",
      "Confusion Matrix : \n",
      "[[983  43]\n",
      " [188  66]]\n"
     ]
    }
   ],
   "source": [
    "y_pred = ann.predict(X_test)\n",
    "ann_acc = accuracy_score(y_test, y_pred)\n",
    "y_pred_train = ann.predict(X_train)\n",
    "ann_acc_train = accuracy_score(y_train, y_pred_train)\n",
    "scores = cross_val_score(ann, X, y, cv=5)\n",
    "print(\"Accuracy Test Score: \", ann_acc)\n",
    "print(\"Accuracy Train Score:\", ann_acc_train)\n",
    "print(\"Cross Value: %0.2f (+/- %0.2f)\" % (scores.mean(), scores.std() * 2))\n",
    "print(\"----\")\n",
    "print('Precision Score : ' + str(precision_score(y_test,y_pred)))\n",
    "print('Recall Score : ' + str(recall_score(y_test,y_pred)))\n",
    "print('F1 Score : ' + str(f1_score(y_test,y_pred)))\n",
    "print(\"----\")\n",
    "print('RMSE: ' + str(mean_squared_error(y_test, y_pred)))\n",
    "print(\"----\")\n",
    "print('Confusion Matrix : \\n' + str(confusion_matrix(y_test,y_pred)))"
   ]
  },
  {
   "cell_type": "code",
   "execution_count": 593,
   "metadata": {},
   "outputs": [
    {
     "data": {
      "image/png": "[encoded data removed]",
      "text/plain": [
       "<Figure size 432x288 with 2 Axes>"
      ]
     },
     "metadata": {
      "needs_background": "light"
     },
     "output_type": "display_data"
    }
   ],
   "source": [
    "c_matrix = confusion_matrix(y_test, y_pred)\n",
    "plt_c_matrix = plot_confusion_matrix(c_matrix, ['Negative', 'Positive'],\n",
    "                                    title='Confusion Matrix: {} - {}'.format('NN - GA', 'Red & White Wine'))\n",
    "plt_c_matrix.show()"
   ]
  },
  {
   "cell_type": "code",
   "execution_count": 594,
   "metadata": {},
   "outputs": [
    {
     "data": {
      "image/png": "[encoded data removed]",
      "text/plain": [
       "<Figure size 432x288 with 1 Axes>"
      ]
     },
     "metadata": {
      "needs_background": "light"
     },
     "output_type": "display_data"
    }
   ],
   "source": [
    "# Plot learning curve\n",
    "title = \"Learning Curves - NN - GA\"\n",
    "cv = ShuffleSplit(n_splits=10, test_size=0.4, random_state=1)\n",
    "plot_learning_curve(ann, title, X_train, y_train, ylim=(0.7, 1.01), cv=cv, n_jobs=-1)\n",
    "plt.grid()\n",
    "plt.show()"
   ]
  },
  {
   "cell_type": "code",
   "execution_count": 595,
   "metadata": {},
   "outputs": [],
   "source": [
    "my_dict = dict(x = np.arange(1,1001), RHC=RHC/-1, SA=SA/-1, GA=GA/-1)"
   ]
  },
  {
   "cell_type": "code",
   "execution_count": 596,
   "metadata": {},
   "outputs": [
    {
     "data": {
      "text/html": [
       "<div>\n",
       "<style scoped>\n",
       "    .dataframe tbody tr th:only-of-type {\n",
       "        vertical-align: middle;\n",
       "    }\n",
       "\n",
       "    .dataframe tbody tr th {\n",
       "        vertical-align: top;\n",
       "    }\n",
       "\n",
       "    .dataframe thead th {\n",
       "        text-align: right;\n",
       "    }\n",
       "</style>\n",
       "<table border=\"1\" class=\"dataframe\">\n",
       "  <thead>\n",
       "    <tr style=\"text-align: right;\">\n",
       "      <th></th>\n",
       "      <th>x</th>\n",
       "      <th>RHC</th>\n",
       "      <th>SA</th>\n",
       "      <th>GA</th>\n",
       "    </tr>\n",
       "  </thead>\n",
       "  <tbody>\n",
       "    <tr>\n",
       "      <td>0</td>\n",
       "      <td>1.0</td>\n",
       "      <td>0.779312</td>\n",
       "      <td>0.783514</td>\n",
       "      <td>5.76247</td>\n",
       "    </tr>\n",
       "    <tr>\n",
       "      <td>1</td>\n",
       "      <td>2.0</td>\n",
       "      <td>0.779312</td>\n",
       "      <td>0.786385</td>\n",
       "      <td>5.76247</td>\n",
       "    </tr>\n",
       "    <tr>\n",
       "      <td>2</td>\n",
       "      <td>3.0</td>\n",
       "      <td>0.733899</td>\n",
       "      <td>0.783241</td>\n",
       "      <td>5.76247</td>\n",
       "    </tr>\n",
       "    <tr>\n",
       "      <td>3</td>\n",
       "      <td>4.0</td>\n",
       "      <td>0.717585</td>\n",
       "      <td>0.791743</td>\n",
       "      <td>5.76247</td>\n",
       "    </tr>\n",
       "    <tr>\n",
       "      <td>4</td>\n",
       "      <td>5.0</td>\n",
       "      <td>0.717585</td>\n",
       "      <td>0.788644</td>\n",
       "      <td>5.76247</td>\n",
       "    </tr>\n",
       "  </tbody>\n",
       "</table>\n",
       "</div>"
      ],
      "text/plain": [
       "     x       RHC        SA       GA\n",
       "0  1.0  0.779312  0.783514  5.76247\n",
       "1  2.0  0.779312  0.786385  5.76247\n",
       "2  3.0  0.733899  0.783241  5.76247\n",
       "3  4.0  0.717585  0.791743  5.76247\n",
       "4  5.0  0.717585  0.788644  5.76247"
      ]
     },
     "execution_count": 596,
     "metadata": {},
     "output_type": "execute_result"
    }
   ],
   "source": [
    "df = pd.DataFrame.from_dict(my_dict, orient='index')\n",
    "df = df.transpose()\n",
    "df.head()"
   ]
  },
  {
   "cell_type": "code",
   "execution_count": 597,
   "metadata": {},
   "outputs": [
    {
     "data": {
      "image/png": "[encoded data removed]",
      "text/plain": [
       "<Figure size 720x432 with 1 Axes>"
      ]
     },
     "metadata": {
      "needs_background": "light"
     },
     "output_type": "display_data"
    }
   ],
   "source": [
    "# Adapted from https://python-graph-gallery.com/122-multiple-lines-chart/\n",
    "plt.figure(figsize=(10,6))\n",
    "plt.plot( 'x', 'RHC', data=df, marker='', color='blue', linewidth=4, linestyle='-', label=\"RHC\")\n",
    "plt.plot( 'x', 'SA', data=df, marker='', color='black', linewidth=4, linestyle=':', label=\"SA\")\n",
    "plt.plot( 'x', 'GA', data=df, marker='', color='red', linewidth=4, linestyle='--', label=\"GA\")\n",
    "plt.xlim(0, 400)\n",
    "plt.xlabel('Iterations')\n",
    "plt.ylabel('State')\n",
    "plt.title('Neural Network Optimal Weights Fitness/Iteration of Algorithms')\n",
    "plt.legend()\n",
    "plt.grid()"
   ]
  },
  {
   "cell_type": "code",
   "execution_count": null,
   "metadata": {},
   "outputs": [],
   "source": []
  },
  {
   "cell_type": "code",
   "execution_count": null,
   "metadata": {},
   "outputs": [],
   "source": []
  },
  {
   "cell_type": "code",
   "execution_count": null,
   "metadata": {},
   "outputs": [],
   "source": []
  }
 ],
 "metadata": {
  "kernelspec": {
   "display_name": "Python 3",
   "language": "python",
   "name": "python3"
  },
  "language_info": {
   "codemirror_mode": {
    "name": "ipython",
    "version": 3
   },
   "file_extension": ".py",
   "mimetype": "text/x-python",
   "name": "python",
   "nbconvert_exporter": "python",
   "pygments_lexer": "ipython3",
   "version": "3.7.4"
  }
 },
 "nbformat": 4,
 "nbformat_minor": 2
}
